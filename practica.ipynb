{
 "cells": [
  {
   "cell_type": "markdown",
   "metadata": {},
   "source": [
    "# Ernesto Serna Sariñana\n",
    "## Estructuras y organizacion de datos"
   ]
  },
  {
   "cell_type": "code",
   "execution_count": 15,
   "metadata": {},
   "outputs": [
    {
     "name": "stdout",
     "output_type": "stream",
     "text": [
      "La variable x tiene un valor de:  10\n",
      "La variable c tiene un valor de:  5\n",
      "Hola mundo\n",
      "Animo, tu puedes programador\n"
     ]
    }
   ],
   "source": [
    "x=10\n",
    "c=5\n",
    "print(\"La variable x tiene un valor de: \",x)\n",
    "print(\"La variable c tiene un valor de: \",c)\n",
    "print(\"Hola mundo\")\n",
    "print(\"Animo, tu puedes programador\")"
   ]
  },
  {
   "cell_type": "code",
   "execution_count": null,
   "metadata": {},
   "outputs": [],
   "source": []
  }
 ],
 "metadata": {
  "kernelspec": {
   "display_name": "Python 3",
   "language": "python",
   "name": "python3"
  },
  "language_info": {
   "codemirror_mode": {
    "name": "ipython",
    "version": 3
   },
   "file_extension": ".py",
   "mimetype": "text/x-python",
   "name": "python",
   "nbconvert_exporter": "python",
   "pygments_lexer": "ipython3",
   "version": "3.8.3"
  }
 },
 "nbformat": 4,
 "nbformat_minor": 4
}
