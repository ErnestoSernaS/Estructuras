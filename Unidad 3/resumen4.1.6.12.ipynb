{
 "cells": [
  {
   "cell_type": "code",
   "execution_count": 1,
   "metadata": {},
   "outputs": [
    {
     "name": "stdout",
     "output_type": "stream",
     "text": [
      "3\n"
     ]
    }
   ],
   "source": [
    "miTup = (1, 2, 3)\n",
    "print(miTup[2])"
   ]
  },
  {
   "cell_type": "code",
   "execution_count": 2,
   "metadata": {},
   "outputs": [
    {
     "name": "stdout",
     "output_type": "stream",
     "text": [
      "6\n"
     ]
    }
   ],
   "source": [
    "tup = 1, 2, 3\n",
    "a, b, c = tup\n",
    "\n",
    "print(a * b * c)"
   ]
  },
  {
   "cell_type": "code",
   "execution_count": 4,
   "metadata": {},
   "outputs": [
    {
     "name": "stdout",
     "output_type": "stream",
     "text": [
      "4\n"
     ]
    }
   ],
   "source": [
    "tup = 1, 2, 3, 2, 4, 5, 6, 2, 7, 2, 8, 9\n",
    "duplicados = tup.count(2)\n",
    "\n",
    "print(duplicados) "
   ]
  },
  {
   "cell_type": "code",
   "execution_count": 6,
   "metadata": {},
   "outputs": [
    {
     "name": "stdout",
     "output_type": "stream",
     "text": [
      "{'Adam Smith': 'A', 'Judy Paxton': 'B+', 'Mary Louis': 'A', 'Patrick White': 'C'}\n"
     ]
    }
   ],
   "source": [
    "d1 = {'Adam Smith':'A', 'Judy Paxton':'B+'}\n",
    "d2 = {'Mary Louis':'A', 'Patrick White':'C'}\n",
    "d3 = {}\n",
    "\n",
    "for elemento in (d1, d2):\n",
    "    for elemento in (d1, d2):\n",
    "        d3.update(elemento)\n",
    "\n",
    "print(d3)"
   ]
  },
  {
   "cell_type": "code",
   "execution_count": 9,
   "metadata": {},
   "outputs": [
    {
     "name": "stdout",
     "output_type": "stream",
     "text": [
      "('carro', 'Ford', 'flor', 'Tulipán')\n"
     ]
    }
   ],
   "source": [
    "l = [\"carro\", \"Ford\", \"flor\", \"Tulipán\"]\n",
    "\n",
    "t = tuple(l)\n",
    "print(t)"
   ]
  },
  {
   "cell_type": "code",
   "execution_count": 10,
   "metadata": {},
   "outputs": [
    {
     "name": "stdout",
     "output_type": "stream",
     "text": [
      "{'verde': '#008000', 'azul': '#0000FF'}\n"
     ]
    }
   ],
   "source": [
    "colores = ((\"verde\", \"#008000\"), (\"azul\", \"#0000FF\"))\n",
    "\n",
    "colDict = dict(colores)\n",
    "\n",
    "print(colDict)"
   ]
  },
  {
   "cell_type": "code",
   "execution_count": 13,
   "metadata": {},
   "outputs": [
    {
     "name": "stdout",
     "output_type": "stream",
     "text": [
      "{'A': 1, 'B': 2}\n"
     ]
    }
   ],
   "source": [
    "miDict = {\"A\":1, \"B\":2}\n",
    "copyMiDict = miDict.copy()\n",
    "miDict.clear()\n",
    "\n",
    "print(copyMiDict)"
   ]
  },
  {
   "cell_type": "code",
   "execution_count": 12,
   "metadata": {},
   "outputs": [
    {
     "name": "stdout",
     "output_type": "stream",
     "text": [
      "blanco : (255, 255, 255)\n",
      "gris : (128, 128, 128)\n",
      "rojo : (255, 0, 0)\n",
      "verde : (0, 128, 0)\n"
     ]
    }
   ],
   "source": [
    "colores = {\n",
    "    \"blanco\" : (255, 255, 255),\n",
    "    \"gris\"   : (128, 128, 128),\n",
    "    \"rojo\"   : (255, 0, 0),\n",
    "    \"verde\"  : (0, 128, 0)\n",
    "    }\n",
    "\n",
    "for col, rgb in colores.items():\n",
    "    print(col, \":\", rgb)"
   ]
  },
  {
   "cell_type": "code",
   "execution_count": null,
   "metadata": {},
   "outputs": [],
   "source": []
  }
 ],
 "metadata": {
  "kernelspec": {
   "display_name": "Python 3",
   "language": "python",
   "name": "python3"
  },
  "language_info": {
   "codemirror_mode": {
    "name": "ipython",
    "version": 3
   },
   "file_extension": ".py",
   "mimetype": "text/x-python",
   "name": "python",
   "nbconvert_exporter": "python",
   "pygments_lexer": "ipython3",
   "version": "3.8.3"
  }
 },
 "nbformat": 4,
 "nbformat_minor": 4
}
