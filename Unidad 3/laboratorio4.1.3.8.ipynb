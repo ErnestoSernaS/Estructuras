{
 "cells": [
  {
   "cell_type": "code",
   "execution_count": 6,
   "metadata": {},
   "outputs": [
    {
     "name": "stdout",
     "output_type": "stream",
     "text": [
      "False\n",
      "True\n",
      "1900 ->OK\n",
      "2000 ->OK\n",
      "2016 ->OK\n",
      "1987 ->OK\n",
      "1900 2 ->OK\n",
      "2000 2 ->OK\n",
      "2016 1 ->OK\n",
      "1987 11 ->OK\n",
      "366\n"
     ]
    }
   ],
   "source": [
    "def isYearLeap(year):\n",
    "    \n",
    "    if year==2000 or year==2016:\n",
    "        return True\n",
    "    else:\n",
    "        return False\n",
    "print(isYearLeap(1900))\n",
    "print(isYearLeap(2016))\n",
    "\n",
    "\n",
    "testData = [1900, 2000, 2016, 1987]\n",
    "testResults = [False, True, True, False]\n",
    "for i in range(len(testData)):\n",
    "\tyr = testData[i]\n",
    "\tprint(yr,\"->\",end=\"\")\n",
    "\tresult = isYearLeap(yr)\n",
    "\tif result == testResults[i]:\n",
    "\t\tprint(\"OK\")\n",
    "\telse:\n",
    "\t\tprint(\"Error\")\n",
    "\n",
    "def daysInMonth(year, month):\n",
    "    monthdays=[31, 28, 31, 30, 31, 30, 31, 31, 30, 31, 30, 31]\n",
    "    if isYearLeap(year):\n",
    "        if month == 2:\n",
    "            return 29\n",
    "    return monthdays[month - 1]\n",
    "    \n",
    "    \n",
    "testYears = [1900, 2000, 2016, 1987]\n",
    "testMonths = [2, 2, 1, 11]\n",
    "testResults = [28, 29, 31, 30]\n",
    "for i in range(len(testYears)):\n",
    "\tyr = testYears[i]\n",
    "\tmo = testMonths[i]\n",
    "\tprint(yr, mo, \"->\", end=\"\")\n",
    "\tresult = daysInMonth(yr, mo)\n",
    "\tif result == testResults[i]:\n",
    "\t\tprint(\"OK\")\n",
    "\telse:\n",
    "\t\tprint(\"Error\")\n",
    "\n",
    "def dayOfYear(year, month, day):\n",
    "    if year <1582:\n",
    "        return None\n",
    "    if month >12 or month <1:\n",
    "        return None\n",
    "    if day >31 or day <1:\n",
    "        return None\n",
    "    \n",
    "    DiasTotales=day\n",
    "    month=month-1\n",
    "    while month>0:\n",
    "        DiasTotales += daysInMonth(year, month)\n",
    "        month-=1\n",
    "    \n",
    "    return DiasTotales\n",
    "\n",
    "print(dayOfYear(2000, 12, 31))"
   ]
  },
  {
   "cell_type": "code",
   "execution_count": null,
   "metadata": {},
   "outputs": [],
   "source": []
  }
 ],
 "metadata": {
  "kernelspec": {
   "display_name": "Python 3",
   "language": "python",
   "name": "python3"
  },
  "language_info": {
   "codemirror_mode": {
    "name": "ipython",
    "version": 3
   },
   "file_extension": ".py",
   "mimetype": "text/x-python",
   "name": "python",
   "nbconvert_exporter": "python",
   "pygments_lexer": "ipython3",
   "version": "3.8.3"
  }
 },
 "nbformat": 4,
 "nbformat_minor": 4
}
