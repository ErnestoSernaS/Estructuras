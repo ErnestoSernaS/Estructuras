{
 "cells": [
  {
   "cell_type": "markdown",
   "metadata": {},
   "source": [
    "## Estructuras y organizacion de datos\n",
    "\n",
    "## unidad 2\n",
    "\n",
    "### Ernesto Serna Sariñana"
   ]
  },
  {
   "cell_type": "markdown",
   "metadata": {},
   "source": [
    "\n",
    "## Manejo de listas en python"
   ]
  },
  {
   "cell_type": "code",
   "execution_count": 12,
   "metadata": {},
   "outputs": [
    {
     "name": "stdout",
     "output_type": "stream",
     "text": [
      "['futbol', 'natacion', 'tiro con arco', 'box']\n",
      "natacion\n",
      "['futbol americano', 'natacion', 'tiro con arco', 'box']\n",
      "La longitud de la lista 'deportes' es:  4\n",
      "['natacion', 'tiro con arco', 'box']\n",
      "La longitud de la lista 'deportes' es:  3\n",
      "box\n"
     ]
    },
    {
     "ename": "IndexError",
     "evalue": "list index out of range",
     "output_type": "error",
     "traceback": [
      "\u001b[1;31m---------------------------------------------------------------------------\u001b[0m",
      "\u001b[1;31mIndexError\u001b[0m                                Traceback (most recent call last)",
      "\u001b[1;32m<ipython-input-12-e899e72e6ff0>\u001b[0m in \u001b[0;36m<module>\u001b[1;34m\u001b[0m\n\u001b[0;32m     17\u001b[0m \u001b[0mprint\u001b[0m\u001b[1;33m(\u001b[0m\u001b[0mdeportes\u001b[0m\u001b[1;33m[\u001b[0m\u001b[1;33m-\u001b[0m\u001b[1;36m1\u001b[0m\u001b[1;33m]\u001b[0m\u001b[1;33m)\u001b[0m\u001b[1;33m\u001b[0m\u001b[1;33m\u001b[0m\u001b[0m\n\u001b[0;32m     18\u001b[0m \u001b[1;31m# no es posible acceder a un elemento de la lista con un indice que no existe\u001b[0m\u001b[1;33m\u001b[0m\u001b[1;33m\u001b[0m\u001b[1;33m\u001b[0m\u001b[0m\n\u001b[1;32m---> 19\u001b[1;33m \u001b[0mprint\u001b[0m\u001b[1;33m(\u001b[0m\u001b[0mdeportes\u001b[0m\u001b[1;33m[\u001b[0m\u001b[1;33m-\u001b[0m\u001b[1;36m4\u001b[0m\u001b[1;33m]\u001b[0m\u001b[1;33m)\u001b[0m\u001b[1;33m\u001b[0m\u001b[1;33m\u001b[0m\u001b[0m\n\u001b[0m",
      "\u001b[1;31mIndexError\u001b[0m: list index out of range"
     ]
    }
   ],
   "source": [
    "deportes=[\"futbol\", \"natacion\", \"tiro con arco\", \"box\"]\n",
    "print(deportes)\n",
    "#acceder a una posicion especifica dentro de la lista\n",
    "print(deportes[1])\n",
    "# modificar un valor de la lista\n",
    "(deportes[0])=\"futbol americano\"\n",
    "print(deportes)\n",
    "# decir la longitud de la lista (len)\n",
    "print(\"La longitud de la lista 'deportes' es: \",len(deportes))\n",
    "# eliminar un registro de la lista (del)\n",
    "del deportes[0]\n",
    "print(deportes)\n",
    "print(\"La longitud de la lista 'deportes' es: \",len(deportes))\n",
    "# se pueden utilizar valores negativos enel indice\n",
    "# para hacer una lectura de datos de derecha a izquierda\n",
    "# empezando desde -1 que seria el ultimo valor de la lista\n",
    "print(deportes[-1])\n",
    "# no es posible acceder a un elemento de la lista con un indice que no existe\n",
    "print(deportes[-4])"
   ]
  },
  {
   "cell_type": "code",
   "execution_count": 18,
   "metadata": {},
   "outputs": [
    {
     "name": "stdout",
     "output_type": "stream",
     "text": [
      "['futbol', 'natacion', 'tiro con arco', 'box']\n",
      "['futbol', 'natacion', 'tiro con arco', 'box', 'golf']\n",
      "['futbol', 'gimnasia', 'natacion', 'tiro con arco', 'box', 'golf']\n",
      "['baseball', 'futbol', 'gimnasia', 'natacion', 'tiro con arco', 'box', 'golf']\n",
      "La longitud de la lista 'deportes' es:  7\n",
      "baseball\n",
      "futbol\n",
      "gimnasia\n",
      "natacion\n",
      "tiro con arco\n",
      "box\n",
      "golf\n",
      "golf si se encuentra en la lista de deportes\n"
     ]
    }
   ],
   "source": [
    "deportes=[\"futbol\", \"natacion\", \"tiro con arco\", \"box\"]\n",
    "print(deportes)\n",
    "# agregar elementos a las listas\n",
    "# metodo APPEND lo agrega al final de la lista\n",
    "# metodo INSERT lo agrega en la posicion especificada\n",
    "deportes.append(\"golf\")\n",
    "print(deportes)\n",
    "deportes.insert(1,\"gimnasia\")\n",
    "print(deportes)\n",
    "deportes.insert(0,\"baseball\")\n",
    "print(deportes)\n",
    "print(\"La longitud de la lista 'deportes' es: \",len(deportes))\n",
    "# ciclo para recorrer los valores de una lista\n",
    "for i in deportes:\n",
    "    print(i)\n",
    "if \"golf\" in deportes:\n",
    "    print(\"golf si se encuentra en la lista de deportes\")\n",
    "else:\n",
    "    print(\"El golf no se encuentra en esta lista de deportes\")"
   ]
  },
  {
   "cell_type": "code",
   "execution_count": 22,
   "metadata": {},
   "outputs": [
    {
     "name": "stdout",
     "output_type": "stream",
     "text": [
      "[]\n",
      "[1, 2, 3, 4]\n"
     ]
    }
   ],
   "source": [
    "lista_numeros=[]\n",
    "print(lista_numeros)\n",
    "for i in range(1,5):\n",
    "    lista_numeros.append(i)\n",
    "print(lista_numeros)"
   ]
  },
  {
   "cell_type": "code",
   "execution_count": 24,
   "metadata": {},
   "outputs": [
    {
     "name": "stdout",
     "output_type": "stream",
     "text": [
      "1 2\n",
      "2 1\n"
     ]
    }
   ],
   "source": [
    "variable1=1\n",
    "variable2=2\n",
    "print(variable1, variable2)\n",
    "# cambio de variables metodo auxiliar\n",
    "variable1=1\n",
    "variable2=2\n",
    "auxiliar=variable1\n",
    "variable1=variable2\n",
    "variable2=auxiliar\n",
    "print(variable1, variable2)"
   ]
  },
  {
   "cell_type": "code",
   "execution_count": 25,
   "metadata": {},
   "outputs": [
    {
     "name": "stdout",
     "output_type": "stream",
     "text": [
      "[5, 3, 8, 1, 10]\n"
     ]
    }
   ],
   "source": [
    "milista=[10, 1, 8, 3, 5]\n",
    "milista[0], milista[4]= milista[4], milista[0]\n",
    "milista[1], milista[3]= milista[3], milista[1]\n",
    "print(milista)"
   ]
  },
  {
   "cell_type": "markdown",
   "metadata": {},
   "source": [
    "# ordenamiento de lista metodo de la burbuja"
   ]
  },
  {
   "cell_type": "code",
   "execution_count": 26,
   "metadata": {},
   "outputs": [
    {
     "name": "stdout",
     "output_type": "stream",
     "text": [
      "[8, 6, 2, 4, 10]\n"
     ]
    }
   ],
   "source": [
    "milista=[8, 10, 6, 2, 4]\n",
    "for i in range(len(milista)-1):  # necesitamos (5-1) comparaciones\n",
    "    if milista[i]>milista[i + 1]:  # compara elementos adyacentes\n",
    "        milista[i], milista[i + 1]=milista[i + 1], milista[i]  # si terminamos\n",
    "print(milista)"
   ]
  },
  {
   "cell_type": "code",
   "execution_count": 28,
   "metadata": {},
   "outputs": [
    {
     "name": "stdout",
     "output_type": "stream",
     "text": [
      "[2, 4, 6, 8, 10]\n"
     ]
    }
   ],
   "source": [
    "milista=[8, 10, 6, 2, 4]  # lista para ordenar\n",
    "swapped= True  # lo necesitamos verdadero (true) para ingresar al bucle while\n",
    "while swapped:\n",
    "    swapped= False  # no hay swaps hasta ahora\n",
    "    for i in range(len(milista)- 1):\n",
    "        if milista[i]>milista[i + 1]:\n",
    "            swapped= True  # ocurrio el intercambio\n",
    "            milista[i], milista[i + 1]=milista[i + 1], milista[i]\n",
    "print(milista)"
   ]
  },
  {
   "cell_type": "code",
   "execution_count": 29,
   "metadata": {},
   "outputs": [
    {
     "name": "stdout",
     "output_type": "stream",
     "text": [
      "¿Cuantos elementos deseas ordenar?8\n",
      "Introduce un elemento de la lista8\n",
      "Introduce un elemento de la lista7\n",
      "Introduce un elemento de la lista6\n",
      "Introduce un elemento de la lista5\n",
      "Introduce un elemento de la lista4\n",
      "Introduce un elemento de la lista3\n",
      "Introduce un elemento de la lista2\n",
      "Introduce un elemento de la lista1\n",
      "\n",
      "Ordenado:\n",
      "[1, 2, 3, 4, 5, 6, 7, 8]\n"
     ]
    }
   ],
   "source": [
    "milista=[]\n",
    "swapped= True\n",
    "num= int(input(\"¿Cuantos elementos deseas ordenar?\"))\n",
    "for i in range (num):\n",
    "    val= int(input(\"Introduce un elemento de la lista\"))\n",
    "    milista.append(val)\n",
    "while swapped:\n",
    "    swapped= False\n",
    "    for i in range(len(milista)-1):\n",
    "        if milista[i]>milista[i + 1]:\n",
    "            swapped= True\n",
    "            milista[i], milista[i + 1]=milista[i + 1], milista[i]\n",
    "print(\"\\nOrdenado:\")\n",
    "print(milista)"
   ]
  },
  {
   "cell_type": "code",
   "execution_count": 33,
   "metadata": {},
   "outputs": [
    {
     "name": "stdout",
     "output_type": "stream",
     "text": [
      "[5, 3, 1, 2, 4]\n",
      "[1, 2, 3, 4, 5]\n",
      "[5, 3, 1, 2, 4]\n",
      "[4, 2, 1, 3, 5]\n"
     ]
    }
   ],
   "source": [
    "# usar el metodo sort para ordenar una lista\n",
    "lst=[5, 3, 1, 2, 4]\n",
    "print(lst)\n",
    "lst.sort()\n",
    "print(lst)\n",
    "# tambien hay un metodo de lista llamado reverse(), que puedes usar para invertir\n",
    "lst=[5, 3, 1, 2, 4]\n",
    "print(lst)\n",
    "lst.reverse()\n",
    "print(lst)"
   ]
  },
  {
   "cell_type": "markdown",
   "metadata": {},
   "source": [
    "# operaciones con listas"
   ]
  },
  {
   "cell_type": "code",
   "execution_count": 35,
   "metadata": {},
   "outputs": [
    {
     "name": "stdout",
     "output_type": "stream",
     "text": [
      "1\n",
      "1\n",
      "1\n",
      "[1]\n",
      "[1]\n",
      "[5] [5]\n"
     ]
    }
   ],
   "source": [
    "lista1=1\n",
    "print(lista1)\n",
    "lista2=1\n",
    "print(lista2)\n",
    "lista1=2\n",
    "print(lista2)\n",
    "lista1=[1]\n",
    "print(lista1)\n",
    "lista2=lista1\n",
    "print(lista2)\n",
    "lista1 [0]=2\n",
    "lista2 [0]=5\n",
    "print(lista2, lista1)"
   ]
  },
  {
   "cell_type": "markdown",
   "metadata": {},
   "source": [
    "# slicing (rodajas)"
   ]
  },
  {
   "cell_type": "code",
   "execution_count": 40,
   "metadata": {},
   "outputs": [
    {
     "name": "stdout",
     "output_type": "stream",
     "text": [
      "[1, 2, 3, 4, 5]\n",
      "[2, 2, 3, 4, 5]\n",
      "[8, 6]\n",
      "[8, 6, 4]\n",
      "[]\n",
      "[]\n",
      "[6, 4]\n",
      "[10, 8, 6]\n",
      "[4, 2]\n"
     ]
    }
   ],
   "source": [
    "# copiando toda la lista\n",
    "lista1=[1, 2, 3, 4, 5]\n",
    "# copia toda la lista\n",
    "lista2=lista1[:]\n",
    "lista1[0]=2\n",
    "print(lista2)\n",
    "print(lista1)\n",
    "# copiando parte de la lista\n",
    "milista=[2, 8, 6, 4, 2]\n",
    "nuevalista=milista[1:3]\n",
    "print(nuevalista)\n",
    "\n",
    "milista=[10, 8, 6, 4, 2]\n",
    "nuevalista=milista[1:-1]\n",
    "print(nuevalista)\n",
    "\n",
    "milista=[10, 8, 6, 4, 2]\n",
    "nuevalista=milista[-1:1]\n",
    "print(nuevalista)\n",
    "\n",
    "milista=[10, 8, 6, 4, 2]\n",
    "nuevalista=milista[-1:-3]\n",
    "print(nuevalista)\n",
    "\n",
    "milista=[10, 8, 6, 4, 2]\n",
    "nuevalista=milista[-3:-1]\n",
    "print(nuevalista)\n",
    "\n",
    "milista=[10, 8, 6, 4, 2]\n",
    "nuevalista=milista[:3]\n",
    "print(nuevalista)\n",
    "\n",
    "milista=[10, 8, 6, 4, 2]\n",
    "nuevalista=milista[3:]\n",
    "print(nuevalista)"
   ]
  },
  {
   "cell_type": "markdown",
   "metadata": {},
   "source": [
    "# borrar un elemento de una lista"
   ]
  },
  {
   "cell_type": "code",
   "execution_count": 45,
   "metadata": {},
   "outputs": [
    {
     "name": "stdout",
     "output_type": "stream",
     "text": [
      "[10, 8, 6, 4, 2]\n",
      "[10, 8, 6, 4, 2]\n",
      "[10, 4, 2]\n",
      "[10, 8, 6, 4, 2]\n",
      "[10, 8, 6, 4, 2]\n",
      "[]\n",
      "[10, 8, 6, 4, 2]\n"
     ]
    },
    {
     "ename": "NameError",
     "evalue": "name 'nuevalista' is not defined",
     "output_type": "error",
     "traceback": [
      "\u001b[1;31m---------------------------------------------------------------------------\u001b[0m",
      "\u001b[1;31mNameError\u001b[0m                                 Traceback (most recent call last)",
      "\u001b[1;32m<ipython-input-45-bd6ceb7bb40f>\u001b[0m in \u001b[0;36m<module>\u001b[1;34m\u001b[0m\n\u001b[0;32m     16\u001b[0m \u001b[0mprint\u001b[0m\u001b[1;33m(\u001b[0m\u001b[0mnuevalista\u001b[0m\u001b[1;33m)\u001b[0m\u001b[1;33m\u001b[0m\u001b[1;33m\u001b[0m\u001b[0m\n\u001b[0;32m     17\u001b[0m \u001b[1;32mdel\u001b[0m \u001b[0mnuevalista\u001b[0m\u001b[1;33m\u001b[0m\u001b[1;33m\u001b[0m\u001b[0m\n\u001b[1;32m---> 18\u001b[1;33m \u001b[0mprint\u001b[0m\u001b[1;33m(\u001b[0m\u001b[0mnuevalista\u001b[0m\u001b[1;33m)\u001b[0m\u001b[1;33m\u001b[0m\u001b[1;33m\u001b[0m\u001b[0m\n\u001b[0m",
      "\u001b[1;31mNameError\u001b[0m: name 'nuevalista' is not defined"
     ]
    }
   ],
   "source": [
    "milista=[10, 8, 6, 4, 2]\n",
    "nuevalista=milista[:]\n",
    "print(nuevalista)\n",
    "print(milista)\n",
    "\n",
    "del milista[1:3]\n",
    "print(milista)\n",
    "\n",
    "print(nuevalista)\n",
    "\n",
    "print(nuevalista)\n",
    "del nuevalista[:]\n",
    "print(nuevalista)\n",
    "\n",
    "nuevalista=[10, 8, 6, 4, 2]\n",
    "print(nuevalista)\n",
    "del nuevalista\n",
    "print(nuevalista)"
   ]
  },
  {
   "cell_type": "code",
   "execution_count": 46,
   "metadata": {},
   "outputs": [
    {
     "name": "stdout",
     "output_type": "stream",
     "text": [
      "False\n",
      "True\n",
      "True\n"
     ]
    }
   ],
   "source": [
    "milista=[0, 3, 12, 8, 2]\n",
    "print(5 in milista)\n",
    "print(5 not in milista)\n",
    "print(12 in milista)"
   ]
  },
  {
   "cell_type": "code",
   "execution_count": 47,
   "metadata": {},
   "outputs": [
    {
     "name": "stdout",
     "output_type": "stream",
     "text": [
      "15\n"
     ]
    }
   ],
   "source": [
    "# buscar el elemento mayor de la lista\n",
    "milista=[1, 3, 11, 5, 1, 9, 7, 15, 13]\n",
    "mayor=milista[0]\n",
    "for i in range(1, len(milista)):\n",
    "    if milista [i]>mayor:\n",
    "        mayor=milista[i]\n",
    "print(mayor)"
   ]
  },
  {
   "cell_type": "code",
   "execution_count": 48,
   "metadata": {},
   "outputs": [
    {
     "name": "stdout",
     "output_type": "stream",
     "text": [
      "Elemento encontrado en el indice 4\n"
     ]
    }
   ],
   "source": [
    "milista=[1, 2, 3, 4, 5, 6, 7, 8, 9, 10]\n",
    "encontrar=5\n",
    "encontrado= False\n",
    "for i in range(len(milista)):\n",
    "    encontrado=milista[i]==encontrar\n",
    "    if encontrado:\n",
    "        break\n",
    "if encontrado:\n",
    "    print(\"Elemento encontrado en el indice\", i)\n",
    "else:\n",
    "    print(\"ausente\")"
   ]
  },
  {
   "cell_type": "markdown",
   "metadata": {},
   "source": [
    "# tablero de ajedrez con listas de python"
   ]
  },
  {
   "cell_type": "code",
   "execution_count": 49,
   "metadata": {},
   "outputs": [
    {
     "name": "stdout",
     "output_type": "stream",
     "text": [
      "[[0, 0, 0, 0, 0, 0, 0, 0], [0, 0, 0, 0, 0, 0, 0, 0], [0, 0, 0, 0, 0, 0, 0, 0], [0, 0, 0, 0, 0, 0, 0, 0], [0, 0, 0, 0, 0, 0, 0, 0], [0, 0, 0, 0, 0, 0, 0, 0], [0, 0, 0, 0, 0, 0, 0, 0], [0, 0, 0, 0, 0, 0, 0, 0]]\n"
     ]
    }
   ],
   "source": [
    "tablero=[]\n",
    "EMPTY=0\n",
    "for i in range(8):\n",
    "    fila=[EMPTY for i in range(8)]\n",
    "    tablero.append(fila)\n",
    "print(tablero)"
   ]
  },
  {
   "cell_type": "code",
   "execution_count": 50,
   "metadata": {},
   "outputs": [
    {
     "name": "stdout",
     "output_type": "stream",
     "text": [
      "[['TORRE', '-', '-', '-', '-', '-', '-', 'TORRE'], ['-', '-', '-', '-', '-', '-', '-', '-'], ['-', '-', '-', '-', '-', '-', '-', '-'], ['-', '-', '-', '-', '-', '-', '-', '-'], ['-', '-', '-', '-', '-', '-', '-', '-'], ['-', '-', '-', '-', '-', '-', '-', '-'], ['-', '-', '-', '-', '-', '-', '-', '-'], ['TORRE', '-', '-', '-', '-', '-', '-', 'TORRE']]\n"
     ]
    }
   ],
   "source": [
    "EMPTY=\"-\"\n",
    "TORRE=\"TORRE\"\n",
    "tablero=[]\n",
    "for i in range(8):\n",
    "    fila=[EMPTY for i in range(8)]\n",
    "    tablero.append(fila)\n",
    "tablero[0][0]=TORRE\n",
    "tablero[0][7]=TORRE\n",
    "tablero[7][0]=TORRE\n",
    "tablero[7][7]=TORRE\n",
    "print(tablero)"
   ]
  },
  {
   "cell_type": "code",
   "execution_count": 51,
   "metadata": {},
   "outputs": [
    {
     "name": "stdout",
     "output_type": "stream",
     "text": [
      "[['TORRE', '-', '-', '-', '-', '-', '-', 'TORRE'], ['-', '-', '-', '-', '-', '-', '-', '-'], ['-', '-', '-', '-', '-', '-', '-', '-'], ['-', '-', '-', '-', '-', '-', '-', '-'], ['-', '-', 'CABALLO', '-', '-', '-', '-', '-'], ['-', '-', '-', '-', '-', '-', '-', '-'], ['-', '-', '-', '-', '-', '-', '-', '-'], ['TORRE', '-', '-', '-', '-', '-', '-', 'TORRE']]\n"
     ]
    }
   ],
   "source": [
    "tablero[4][2]='CABALLO'\n",
    "print(tablero)"
   ]
  },
  {
   "cell_type": "code",
   "execution_count": 52,
   "metadata": {},
   "outputs": [
    {
     "name": "stdout",
     "output_type": "stream",
     "text": [
      "[[0.0, 0.0, 0.0, 0.0, 0.0, 0.0, 0.0, 0.0, 0.0, 0.0, 0.0, 0.0, 0.0, 0.0, 0.0, 0.0, 0.0, 0.0, 0.0, 0.0, 0.0, 0.0, 0.0, 0.0], [0.0, 0.0, 0.0, 0.0, 0.0, 0.0, 0.0, 0.0, 0.0, 0.0, 0.0, 0.0, 0.0, 0.0, 0.0, 0.0, 0.0, 0.0, 0.0, 0.0, 0.0, 0.0, 0.0, 0.0], [0.0, 0.0, 0.0, 0.0, 0.0, 0.0, 0.0, 0.0, 0.0, 0.0, 0.0, 0.0, 0.0, 0.0, 0.0, 0.0, 0.0, 0.0, 0.0, 0.0, 0.0, 0.0, 0.0, 0.0], [0.0, 0.0, 0.0, 0.0, 0.0, 0.0, 0.0, 0.0, 0.0, 0.0, 0.0, 0.0, 0.0, 0.0, 0.0, 0.0, 0.0, 0.0, 0.0, 0.0, 0.0, 0.0, 0.0, 0.0], [0.0, 0.0, 0.0, 0.0, 0.0, 0.0, 0.0, 0.0, 0.0, 0.0, 0.0, 0.0, 0.0, 0.0, 0.0, 0.0, 0.0, 0.0, 0.0, 0.0, 0.0, 0.0, 0.0, 0.0], [0.0, 0.0, 0.0, 0.0, 0.0, 0.0, 0.0, 0.0, 0.0, 0.0, 0.0, 0.0, 0.0, 0.0, 0.0, 0.0, 0.0, 0.0, 0.0, 0.0, 0.0, 0.0, 0.0, 0.0], [0.0, 0.0, 0.0, 0.0, 0.0, 0.0, 0.0, 0.0, 0.0, 0.0, 0.0, 0.0, 0.0, 0.0, 0.0, 0.0, 0.0, 0.0, 0.0, 0.0, 0.0, 0.0, 0.0, 0.0], [0.0, 0.0, 0.0, 0.0, 0.0, 0.0, 0.0, 0.0, 0.0, 0.0, 0.0, 0.0, 0.0, 0.0, 0.0, 0.0, 0.0, 0.0, 0.0, 0.0, 0.0, 0.0, 0.0, 0.0], [0.0, 0.0, 0.0, 0.0, 0.0, 0.0, 0.0, 0.0, 0.0, 0.0, 0.0, 0.0, 0.0, 0.0, 0.0, 0.0, 0.0, 0.0, 0.0, 0.0, 0.0, 0.0, 0.0, 0.0], [0.0, 0.0, 0.0, 0.0, 0.0, 0.0, 0.0, 0.0, 0.0, 0.0, 0.0, 0.0, 0.0, 0.0, 0.0, 0.0, 0.0, 0.0, 0.0, 0.0, 0.0, 0.0, 0.0, 0.0], [0.0, 0.0, 0.0, 0.0, 0.0, 0.0, 0.0, 0.0, 0.0, 0.0, 0.0, 0.0, 0.0, 0.0, 0.0, 0.0, 0.0, 0.0, 0.0, 0.0, 0.0, 0.0, 0.0, 0.0], [0.0, 0.0, 0.0, 0.0, 0.0, 0.0, 0.0, 0.0, 0.0, 0.0, 0.0, 0.0, 0.0, 0.0, 0.0, 0.0, 0.0, 0.0, 0.0, 0.0, 0.0, 0.0, 0.0, 0.0], [0.0, 0.0, 0.0, 0.0, 0.0, 0.0, 0.0, 0.0, 0.0, 0.0, 0.0, 0.0, 0.0, 0.0, 0.0, 0.0, 0.0, 0.0, 0.0, 0.0, 0.0, 0.0, 0.0, 0.0], [0.0, 0.0, 0.0, 0.0, 0.0, 0.0, 0.0, 0.0, 0.0, 0.0, 0.0, 0.0, 0.0, 0.0, 0.0, 0.0, 0.0, 0.0, 0.0, 0.0, 0.0, 0.0, 0.0, 0.0], [0.0, 0.0, 0.0, 0.0, 0.0, 0.0, 0.0, 0.0, 0.0, 0.0, 0.0, 0.0, 0.0, 0.0, 0.0, 0.0, 0.0, 0.0, 0.0, 0.0, 0.0, 0.0, 0.0, 0.0], [0.0, 0.0, 0.0, 0.0, 0.0, 0.0, 0.0, 0.0, 0.0, 0.0, 0.0, 0.0, 0.0, 0.0, 0.0, 0.0, 0.0, 0.0, 0.0, 0.0, 0.0, 0.0, 0.0, 0.0], [0.0, 0.0, 0.0, 0.0, 0.0, 0.0, 0.0, 0.0, 0.0, 0.0, 0.0, 0.0, 0.0, 0.0, 0.0, 0.0, 0.0, 0.0, 0.0, 0.0, 0.0, 0.0, 0.0, 0.0], [0.0, 0.0, 0.0, 0.0, 0.0, 0.0, 0.0, 0.0, 0.0, 0.0, 0.0, 0.0, 0.0, 0.0, 0.0, 0.0, 0.0, 0.0, 0.0, 0.0, 0.0, 0.0, 0.0, 0.0], [0.0, 0.0, 0.0, 0.0, 0.0, 0.0, 0.0, 0.0, 0.0, 0.0, 0.0, 0.0, 0.0, 0.0, 0.0, 0.0, 0.0, 0.0, 0.0, 0.0, 0.0, 0.0, 0.0, 0.0], [0.0, 0.0, 0.0, 0.0, 0.0, 0.0, 0.0, 0.0, 0.0, 0.0, 0.0, 0.0, 0.0, 0.0, 0.0, 0.0, 0.0, 0.0, 0.0, 0.0, 0.0, 0.0, 0.0, 0.0], [0.0, 0.0, 0.0, 0.0, 0.0, 0.0, 0.0, 0.0, 0.0, 0.0, 0.0, 0.0, 0.0, 0.0, 0.0, 0.0, 0.0, 0.0, 0.0, 0.0, 0.0, 0.0, 0.0, 0.0], [0.0, 0.0, 0.0, 0.0, 0.0, 0.0, 0.0, 0.0, 0.0, 0.0, 0.0, 0.0, 0.0, 0.0, 0.0, 0.0, 0.0, 0.0, 0.0, 0.0, 0.0, 0.0, 0.0, 0.0], [0.0, 0.0, 0.0, 0.0, 0.0, 0.0, 0.0, 0.0, 0.0, 0.0, 0.0, 0.0, 0.0, 0.0, 0.0, 0.0, 0.0, 0.0, 0.0, 0.0, 0.0, 0.0, 0.0, 0.0], [0.0, 0.0, 0.0, 0.0, 0.0, 0.0, 0.0, 0.0, 0.0, 0.0, 0.0, 0.0, 0.0, 0.0, 0.0, 0.0, 0.0, 0.0, 0.0, 0.0, 0.0, 0.0, 0.0, 0.0], [0.0, 0.0, 0.0, 0.0, 0.0, 0.0, 0.0, 0.0, 0.0, 0.0, 0.0, 0.0, 0.0, 0.0, 0.0, 0.0, 0.0, 0.0, 0.0, 0.0, 0.0, 0.0, 0.0, 0.0], [0.0, 0.0, 0.0, 0.0, 0.0, 0.0, 0.0, 0.0, 0.0, 0.0, 0.0, 0.0, 0.0, 0.0, 0.0, 0.0, 0.0, 0.0, 0.0, 0.0, 0.0, 0.0, 0.0, 0.0], [0.0, 0.0, 0.0, 0.0, 0.0, 0.0, 0.0, 0.0, 0.0, 0.0, 0.0, 0.0, 0.0, 0.0, 0.0, 0.0, 0.0, 0.0, 0.0, 0.0, 0.0, 0.0, 0.0, 0.0], [0.0, 0.0, 0.0, 0.0, 0.0, 0.0, 0.0, 0.0, 0.0, 0.0, 0.0, 0.0, 0.0, 0.0, 0.0, 0.0, 0.0, 0.0, 0.0, 0.0, 0.0, 0.0, 0.0, 0.0], [0.0, 0.0, 0.0, 0.0, 0.0, 0.0, 0.0, 0.0, 0.0, 0.0, 0.0, 0.0, 0.0, 0.0, 0.0, 0.0, 0.0, 0.0, 0.0, 0.0, 0.0, 0.0, 0.0, 0.0], [0.0, 0.0, 0.0, 0.0, 0.0, 0.0, 0.0, 0.0, 0.0, 0.0, 0.0, 0.0, 0.0, 0.0, 0.0, 0.0, 0.0, 0.0, 0.0, 0.0, 0.0, 0.0, 0.0, 0.0], [0.0, 0.0, 0.0, 0.0, 0.0, 0.0, 0.0, 0.0, 0.0, 0.0, 0.0, 0.0, 0.0, 0.0, 0.0, 0.0, 0.0, 0.0, 0.0, 0.0, 0.0, 0.0, 0.0, 0.0]]\n",
      "Temperatura promedio al mediodia: 0.0\n"
     ]
    }
   ],
   "source": [
    "# arreglo bidimensional o listas bidimensionales\n",
    "temps=[[0.0 for h in range(24)] for d in range(31)]\n",
    "print(temps)\n",
    "\n",
    "temps=[[0.0 for h in range(24)] for d in range(31)]\n",
    "\n",
    "# la matriz se actualiza magicamente aqui\n",
    "\n",
    "suma=0.0\n",
    "for day in temps:\n",
    "    suma+=day[11]\n",
    "promedio=suma/31\n",
    "print(\"Temperatura promedio al mediodia:\", promedio)"
   ]
  },
  {
   "cell_type": "code",
   "execution_count": null,
   "metadata": {},
   "outputs": [],
   "source": []
  }
 ],
 "metadata": {
  "kernelspec": {
   "display_name": "Python 3",
   "language": "python",
   "name": "python3"
  },
  "language_info": {
   "codemirror_mode": {
    "name": "ipython",
    "version": 3
   },
   "file_extension": ".py",
   "mimetype": "text/x-python",
   "name": "python",
   "nbconvert_exporter": "python",
   "pygments_lexer": "ipython3",
   "version": "3.8.3"
  }
 },
 "nbformat": 4,
 "nbformat_minor": 4
}
