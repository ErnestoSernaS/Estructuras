{
 "cells": [
  {
   "cell_type": "code",
   "execution_count": 1,
   "metadata": {},
   "outputs": [
    {
     "name": "stdout",
     "output_type": "stream",
     "text": [
      "['carro', 'bicicleta', 'moto']\n",
      "['bicicleta', 'moto']\n"
     ]
    }
   ],
   "source": [
    "vehiculosUno = ['carro', 'bicicleta', 'moto']\n",
    "print(vehiculosUno) # salida: ['carro', 'bicicleta', 'moto']\n",
    "\n",
    "vehiculosDos = vehiculosUno\n",
    "del vehiculosUno[0] # borra 'carro'\n",
    "print(vehiculosDos) # salida: ['bicicleta', 'moto']\n"
   ]
  },
  {
   "cell_type": "code",
   "execution_count": 3,
   "metadata": {},
   "outputs": [],
   "source": [
    "colores = ['rojo', 'verde', 'naranja']\n",
    "\n",
    "copiaTodosColores = colores[:] # copia la lista completa\n",
    "copiaParteColores = colores[0:2] # copia parte de la lista"
   ]
  },
  {
   "cell_type": "code",
   "execution_count": 4,
   "metadata": {},
   "outputs": [
    {
     "name": "stdout",
     "output_type": "stream",
     "text": [
      "['C', 'D']\n"
     ]
    }
   ],
   "source": [
    "listaMuestra = [\"A\", \"B\", \"C\", \"D\", \"E\"]\n",
    "nuevaLista = listaMuestra[2:-1]\n",
    "print(nuevaLista) # salida: ['C', 'D']"
   ]
  },
  {
   "cell_type": "code",
   "execution_count": 5,
   "metadata": {},
   "outputs": [
    {
     "name": "stdout",
     "output_type": "stream",
     "text": [
      "[3, 4, 5]\n",
      "[1, 2]\n",
      "[4, 5]\n"
     ]
    }
   ],
   "source": [
    "miLista = [1, 2, 3, 4, 5]\n",
    "rodajaUno = miLista [2:]\n",
    "rodajaDos = miLista [:2]\n",
    "rodajaTres = miLista [-2:]\n",
    "\n",
    "print(rodajaUno) # salidas: [3, 4, 5]\n",
    "print(rodajaDos) # salidas: [1, 2]\n",
    "print(rodajaTres) # salidas: [4, 5]"
   ]
  },
  {
   "cell_type": "code",
   "execution_count": 6,
   "metadata": {},
   "outputs": [
    {
     "name": "stdout",
     "output_type": "stream",
     "text": [
      "[3, 4, 5]\n",
      "[]\n"
     ]
    }
   ],
   "source": [
    "miLista = [1, 2, 3, 4, 5]\n",
    "del miLista [0:2]\n",
    "print(miLista) # salida: [3, 4, 5]\n",
    "\n",
    "del miLista[:]\n",
    "print(miLista) # elimina el contenido de la lista, genera: []"
   ]
  },
  {
   "cell_type": "code",
   "execution_count": 7,
   "metadata": {},
   "outputs": [
    {
     "name": "stdout",
     "output_type": "stream",
     "text": [
      "True\n",
      "True\n",
      "False\n"
     ]
    }
   ],
   "source": [
    "miLista = [\"A\", \"B\", 1, 2]\n",
    "\n",
    "print(\"A\" in miLista) # salida: True\n",
    "print(\"C\" not in miLista) # salida: False\n",
    "print(2 not in miLista) # salidas: False"
   ]
  },
  {
   "cell_type": "code",
   "execution_count": 8,
   "metadata": {},
   "outputs": [
    {
     "name": "stdout",
     "output_type": "stream",
     "text": [
      "['C']\n"
     ]
    }
   ],
   "source": [
    "l1 = [\"A\", \"B\", \"C\"]\n",
    "l2 = l1\n",
    "l3 = l2\n",
    "\n",
    "del l1[0]\n",
    "del l2[0]\n",
    "\n",
    "print(l3)"
   ]
  },
  {
   "cell_type": "code",
   "execution_count": 9,
   "metadata": {},
   "outputs": [
    {
     "name": "stdout",
     "output_type": "stream",
     "text": [
      "['B', 'C']\n"
     ]
    }
   ],
   "source": [
    "l1 = [\"A\", \"B\", \"C\"]\n",
    "l2 = l1\n",
    "l3 = l2\n",
    "\n",
    "del l1[0]\n",
    "del l2\n",
    "\n",
    "print(l3)\n"
   ]
  },
  {
   "cell_type": "code",
   "execution_count": 10,
   "metadata": {},
   "outputs": [
    {
     "name": "stdout",
     "output_type": "stream",
     "text": [
      "[]\n"
     ]
    }
   ],
   "source": [
    "l1 = [\"A\", \"B\", \"C\"]\n",
    "l2 = l1\n",
    "l3 = l2\n",
    "\n",
    "del l1[0]\n",
    "del l2[:]\n",
    "\n",
    "print(l3)"
   ]
  },
  {
   "cell_type": "code",
   "execution_count": 11,
   "metadata": {},
   "outputs": [
    {
     "name": "stdout",
     "output_type": "stream",
     "text": [
      "['A', 'B', 'C']\n"
     ]
    }
   ],
   "source": [
    "l1 = [\"A\", \"B\", \"C\"]\n",
    "l2 = l1[:]\n",
    "l3 = l2[:]\n",
    "\n",
    "del l1[0]\n",
    "del l2[0]\n",
    "\n",
    "print(l3)"
   ]
  },
  {
   "cell_type": "code",
   "execution_count": 13,
   "metadata": {},
   "outputs": [
    {
     "name": "stdout",
     "output_type": "stream",
     "text": [
      "True\n",
      "True\n",
      "True\n",
      "False\n"
     ]
    }
   ],
   "source": [
    "miLista = [1, 2, \"in\", True, \"ABC\"]\n",
    "\n",
    "print(1 in miLista) # salida True\n",
    "print(\"A\" not in miLista) # salida True\n",
    "print(3 not in miLista) # salida True\n",
    "print(False in miLista) # salida False"
   ]
  },
  {
   "cell_type": "code",
   "execution_count": null,
   "metadata": {},
   "outputs": [],
   "source": []
  }
 ],
 "metadata": {
  "kernelspec": {
   "display_name": "Python 3",
   "language": "python",
   "name": "python3"
  },
  "language_info": {
   "codemirror_mode": {
    "name": "ipython",
    "version": 3
   },
   "file_extension": ".py",
   "mimetype": "text/x-python",
   "name": "python",
   "nbconvert_exporter": "python",
   "pygments_lexer": "ipython3",
   "version": "3.8.3"
  }
 },
 "nbformat": 4,
 "nbformat_minor": 4
}
