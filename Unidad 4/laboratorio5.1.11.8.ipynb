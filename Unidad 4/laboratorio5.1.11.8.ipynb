{
 "cells": [
  {
   "cell_type": "code",
   "execution_count": 6,
   "metadata": {},
   "outputs": [
    {
     "name": "stdout",
     "output_type": "stream",
     "text": [
      "Ingrese primer texto: Listen\n",
      "Ingrese segundo texto: Silent\n",
      "Anagramas.\n"
     ]
    }
   ],
   "source": [
    "def anagrama(f, m):\n",
    "    f = f.casefold()\n",
    "    f = f.replace(\" \", \"\")\n",
    "    m = m.casefold()\n",
    "    m = m.replace(\" \", \"\")\n",
    "    if(sorted(f)== sorted(m)): \n",
    "        print(\"Anagramas.\")  \n",
    "    else: \n",
    "        print(\"No son anagramas.\")          \n",
    "f = input(\"Ingrese primer texto: \")\n",
    "m = input(\"Ingrese segundo texto: \")\n",
    "anagrama(f, m)"
   ]
  },
  {
   "cell_type": "code",
   "execution_count": 7,
   "metadata": {},
   "outputs": [
    {
     "name": "stdout",
     "output_type": "stream",
     "text": [
      "Ingrese primer texto: modern\n",
      "Ingrese segundo texto: norman\n",
      "No son anagramas.\n"
     ]
    }
   ],
   "source": [
    "def anagrama(f, m):\n",
    "    f = f.casefold()\n",
    "    f = f.replace(\" \", \"\")\n",
    "    m = m.casefold()\n",
    "    m = m.replace(\" \", \"\")\n",
    "    if(sorted(f)== sorted(m)): \n",
    "        print(\"Anagramas.\")  \n",
    "    else: \n",
    "        print(\"No son anagramas.\")          \n",
    "f = input(\"Ingrese primer texto: \")\n",
    "m = input(\"Ingrese segundo texto: \")\n",
    "anagrama(f, m)"
   ]
  },
  {
   "cell_type": "code",
   "execution_count": null,
   "metadata": {},
   "outputs": [],
   "source": []
  }
 ],
 "metadata": {
  "kernelspec": {
   "display_name": "Python 3",
   "language": "python",
   "name": "python3"
  },
  "language_info": {
   "codemirror_mode": {
    "name": "ipython",
    "version": 3
   },
   "file_extension": ".py",
   "mimetype": "text/x-python",
   "name": "python",
   "nbconvert_exporter": "python",
   "pygments_lexer": "ipython3",
   "version": "3.8.3"
  }
 },
 "nbformat": 4,
 "nbformat_minor": 4
}
