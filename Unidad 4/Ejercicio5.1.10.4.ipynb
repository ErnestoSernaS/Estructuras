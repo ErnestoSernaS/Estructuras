{
 "cells": [
  {
   "cell_type": "code",
   "execution_count": 1,
   "metadata": {},
   "outputs": [
    {
     "name": "stdout",
     "output_type": "stream",
     "text": [
      "13 1.3\n"
     ]
    }
   ],
   "source": [
    "# Como convertir un número ya sea un entero o un flotante en una cadena y viceversa\n",
    "# La conversión de cadena a número es simple, Se realiza mediante una función llamada str()\n",
    "\n",
    "itg = 13\n",
    "flt = 1.3\n",
    "si = str(itg)\n",
    "sf = str(flt)\n",
    "\n",
    "print(si + ' ' + sf)"
   ]
  },
  {
   "cell_type": "code",
   "execution_count": 2,
   "metadata": {},
   "outputs": [
    {
     "name": "stdout",
     "output_type": "stream",
     "text": [
      "14.3\n"
     ]
    }
   ],
   "source": [
    "# La transformación inversa solo es posible cuando la cadena representa un número válido\n",
    "# Si no se cumple la condición resulta en una excepción ValueError\n",
    "\n",
    "# Emplea la función int() si se desea obtener un entero y float() si se necesita un valor punto flotante\n",
    "\n",
    "si = '13'\n",
    "sf = '1.3'\n",
    "itg = int(si)\n",
    "flt = float(sf)\n",
    "\n",
    "print(itg + flt)"
   ]
  },
  {
   "cell_type": "code",
   "execution_count": null,
   "metadata": {},
   "outputs": [],
   "source": []
  }
 ],
 "metadata": {
  "kernelspec": {
   "display_name": "Python 3",
   "language": "python",
   "name": "python3"
  },
  "language_info": {
   "codemirror_mode": {
    "name": "ipython",
    "version": 3
   },
   "file_extension": ".py",
   "mimetype": "text/x-python",
   "name": "python",
   "nbconvert_exporter": "python",
   "pygments_lexer": "ipython3",
   "version": "3.8.3"
  }
 },
 "nbformat": 4,
 "nbformat_minor": 4
}
