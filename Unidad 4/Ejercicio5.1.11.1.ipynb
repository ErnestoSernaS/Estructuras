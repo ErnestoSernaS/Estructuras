{
 "cells": [
  {
   "cell_type": "code",
   "execution_count": 6,
   "metadata": {},
   "outputs": [
    {
     "name": "stdout",
     "output_type": "stream",
     "text": [
      "Ingresa tu mensaje: SOY ERNESTO\n",
      "TPZFSOFTUP\n"
     ]
    }
   ],
   "source": [
    "# Cifrado César\n",
    "# Este cifrado fue inventado y utilizado por Cayo Julio César y sus tropas durante las Guerras Galas. \n",
    "# Cada letra del mensaje se reemplaza por su consecuente más cercano \n",
    "# A se convierte en B, B se convierte en C, y así sucesivamente, la única excepción es Z, la cual se convierte en A.\n",
    "# El programa en el editor es una implementación muy simple pero funcional del algoritmo.\n",
    "# Se ha escrito utilizando los siguientes supuestos:\n",
    "# Solo acepta letras latinas, los romanos no usaban espacios en blanco ni dígitos\n",
    "# Todas las letras del mensaje están en mayúsculas, los romanos solo conocían las mayúsculas\n",
    "\n",
    "text = input(\"Ingresa tu mensaje: \")\n",
    "cifrado = ''\n",
    "for char in text:\n",
    "    if not char.isalpha():\n",
    "        continue\n",
    "    char = char.upper()\n",
    "    code = ord(char) + 1\n",
    "    if code > ord('Z'):\n",
    "        code = ord('A')\n",
    "    cifrado += chr(code)\n",
    "\n",
    "print(cifrado)"
   ]
  },
  {
   "cell_type": "code",
   "execution_count": null,
   "metadata": {},
   "outputs": [],
   "source": []
  }
 ],
 "metadata": {
  "kernelspec": {
   "display_name": "Python 3",
   "language": "python",
   "name": "python3"
  },
  "language_info": {
   "codemirror_mode": {
    "name": "ipython",
    "version": 3
   },
   "file_extension": ".py",
   "mimetype": "text/x-python",
   "name": "python",
   "nbconvert_exporter": "python",
   "pygments_lexer": "ipython3",
   "version": "3.8.3"
  }
 },
 "nbformat": 4,
 "nbformat_minor": 4
}
