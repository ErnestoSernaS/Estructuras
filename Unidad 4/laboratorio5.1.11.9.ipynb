{
 "cells": [
  {
   "cell_type": "code",
   "execution_count": 5,
   "metadata": {},
   "outputs": [
    {
     "name": "stdout",
     "output_type": "stream",
     "text": [
      "Ingresa una fecha de cumpleaños en digitos, formato AAAA/MM/DD: 19991229\n",
      "6\n"
     ]
    }
   ],
   "source": [
    "def digito(fv):\n",
    "    mas = 0\n",
    "    while fv:\n",
    "        mas += fv % 10\n",
    "        fv //= 10\n",
    "    if mas > 9:\n",
    "        return digitoDeLaVida(mas)\n",
    "    return mas\n",
    "fv = int(input(\"Ingresa una fecha de cumpleaños en digitos, formato AAAA/MM/DD: \"))\n",
    "print(digito(fv))"
   ]
  },
  {
   "cell_type": "code",
   "execution_count": 6,
   "metadata": {},
   "outputs": [
    {
     "name": "stdout",
     "output_type": "stream",
     "text": [
      "Ingresa una fecha de cumpleaños en digitos, formato AAAA/MM/DD: 20000101\n",
      "4\n"
     ]
    }
   ],
   "source": [
    "def digito(fv):\n",
    "    mas = 0\n",
    "    while fv:\n",
    "        mas += fv % 10\n",
    "        fv //= 10\n",
    "    if mas > 9:\n",
    "        return digitoDeLaVida(mas)\n",
    "    return mas\n",
    "fv = int(input(\"Ingresa una fecha de cumpleaños en digitos, formato AAAA/MM/DD: \"))\n",
    "print(digito(fv))"
   ]
  },
  {
   "cell_type": "code",
   "execution_count": null,
   "metadata": {},
   "outputs": [],
   "source": []
  }
 ],
 "metadata": {
  "kernelspec": {
   "display_name": "Python 3",
   "language": "python",
   "name": "python3"
  },
  "language_info": {
   "codemirror_mode": {
    "name": "ipython",
    "version": 3
   },
   "file_extension": ".py",
   "mimetype": "text/x-python",
   "name": "python",
   "nbconvert_exporter": "python",
   "pygments_lexer": "ipython3",
   "version": "3.8.3"
  }
 },
 "nbformat": 4,
 "nbformat_minor": 4
}
