{
 "cells": [
  {
   "cell_type": "code",
   "execution_count": 6,
   "metadata": {},
   "outputs": [
    {
     "name": "stdout",
     "output_type": "stream",
     "text": [
      "Ingresa un mensaje: abcxyzABCxyz 123\n",
      "Ingresa un valor de 1 al 25: 2\n",
      "cdezAbcdezAb 123\n"
     ]
    }
   ],
   "source": [
    "import string\n",
    "alfabeto = list(string.ascii_lowercase + string.ascii_uppercase)\n",
    "txt = input(\"Ingresa un mensaje: \")\n",
    "f = int(input(\"Ingresa un valor de 1 al 25: \"))\n",
    "cifrado = \"\"\n",
    "   \n",
    "if 0 < f < 26:\n",
    "    for letra in txt:\n",
    "        if letra in alfabeto:\n",
    "            now = alfabeto.index(letra)\n",
    "            ces = now + f\n",
    "            if ces > 26:\n",
    "                ces -= 26\n",
    "            cifrado += alfabeto[ces]\n",
    "        else:\n",
    "            cifrado += letra\n",
    "    print(cifrado)\n",
    "else:\n",
    "    print(\"Numero fuera de rango\")"
   ]
  },
  {
   "cell_type": "code",
   "execution_count": 7,
   "metadata": {},
   "outputs": [
    {
     "name": "stdout",
     "output_type": "stream",
     "text": [
      "Ingresa un mensaje: The die is cast\n",
      "Ingresa un valor de 1 al 25: 25\n",
      "Sgd chd hr bzrs\n"
     ]
    }
   ],
   "source": [
    "import string\n",
    "alfabeto = list(string.ascii_lowercase + string.ascii_uppercase)\n",
    "txt = input(\"Ingresa un mensaje: \")\n",
    "f = int(input(\"Ingresa un valor de 1 al 25: \"))\n",
    "cifrado = \"\"\n",
    "   \n",
    "if 0 < f < 26:\n",
    "    for letra in txt:\n",
    "        if letra in alfabeto:\n",
    "            now = alfabeto.index(letra)\n",
    "            ces = now + f\n",
    "            if ces > 26:\n",
    "                ces -= 26\n",
    "            cifrado += alfabeto[ces]\n",
    "        else:\n",
    "            cifrado += letra\n",
    "    print(cifrado)\n",
    "else:\n",
    "    print(\"Numero fuera de rango\")"
   ]
  },
  {
   "cell_type": "code",
   "execution_count": null,
   "metadata": {},
   "outputs": [],
   "source": []
  }
 ],
 "metadata": {
  "kernelspec": {
   "display_name": "Python 3",
   "language": "python",
   "name": "python3"
  },
  "language_info": {
   "codemirror_mode": {
    "name": "ipython",
    "version": 3
   },
   "file_extension": ".py",
   "mimetype": "text/x-python",
   "name": "python",
   "nbconvert_exporter": "python",
   "pygments_lexer": "ipython3",
   "version": "3.8.3"
  }
 },
 "nbformat": 4,
 "nbformat_minor": 4
}
