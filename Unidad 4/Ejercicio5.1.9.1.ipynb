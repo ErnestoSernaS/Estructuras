{
 "cells": [
  {
   "cell_type": "code",
   "execution_count": 1,
   "metadata": {},
   "outputs": [
    {
     "name": "stdout",
     "output_type": "stream",
     "text": [
      "Abcd\n"
     ]
    }
   ],
   "source": [
    "# Si el primer caracter dentro de la cadena es una letra, se convertirá a mayúsculas.\n",
    "# Todas las letras restantes se convertirán a minúsculas.\n",
    "\n",
    "# Demostración del método capitalize()\n",
    "print('aBcD'.capitalize())"
   ]
  },
  {
   "cell_type": "code",
   "execution_count": 2,
   "metadata": {},
   "outputs": [
    {
     "name": "stdout",
     "output_type": "stream",
     "text": [
      "Alpha\n",
      "Alpha\n",
      " alpha\n",
      "123\n",
      "Αβγδ\n"
     ]
    }
   ],
   "source": [
    "# Mas ejemplos\n",
    "print(\"Alpha\".capitalize())\n",
    "print('ALPHA'.capitalize())\n",
    "print(' Alpha'.capitalize())\n",
    "print('123'.capitalize())\n",
    "print(\"αβγδ\".capitalize())"
   ]
  },
  {
   "cell_type": "code",
   "execution_count": null,
   "metadata": {},
   "outputs": [],
   "source": []
  }
 ],
 "metadata": {
  "kernelspec": {
   "display_name": "Python 3",
   "language": "python",
   "name": "python3"
  },
  "language_info": {
   "codemirror_mode": {
    "name": "ipython",
    "version": 3
   },
   "file_extension": ".py",
   "mimetype": "text/x-python",
   "name": "python",
   "nbconvert_exporter": "python",
   "pygments_lexer": "ipython3",
   "version": "3.8.3"
  }
 },
 "nbformat": 4,
 "nbformat_minor": 4
}
