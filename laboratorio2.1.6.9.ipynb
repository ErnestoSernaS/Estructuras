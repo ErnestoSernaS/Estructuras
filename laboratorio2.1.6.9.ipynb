{
 "cells": [
  {
   "cell_type": "code",
   "execution_count": 5,
   "metadata": {},
   "outputs": [
    {
     "name": "stdout",
     "output_type": "stream",
     "text": [
      "ingrese un valor para e: 12\n",
      "ingrese un valor para s: 6\n",
      "e+s=  18.0\n",
      "e-s=  6.0\n",
      "e*s=  72.0\n",
      "e/s=  2.0\n",
      "\n",
      "¡Eso es todo, amigos!\n"
     ]
    }
   ],
   "source": [
    "# ingresa un valor flotante para la variable a aquí\n",
    "e=float(input(\"ingrese un valor para e: \"))\n",
    "# ingresa un valor flotante para la variable b aquí\n",
    "s=float(input(\"ingrese un valor para s: \"))\n",
    "# muestra el resultado de la suma aquí \n",
    "print(\"e+s= \",e+s)\n",
    "# muestra el resultado de la resta aquí\n",
    "print(\"e-s= \",e-s)\n",
    "# muestra el resultado de la multiplicación aquí\n",
    "print(\"e*s= \",e*s)\n",
    "# muestra el resultado de la división aquí\n",
    "print(\"e/s= \",e/s)\n",
    "print(\"\\n¡Eso es todo, amigos!\")"
   ]
  },
  {
   "cell_type": "code",
   "execution_count": null,
   "metadata": {},
   "outputs": [],
   "source": []
  }
 ],
 "metadata": {
  "kernelspec": {
   "display_name": "Python 3",
   "language": "python",
   "name": "python3"
  },
  "language_info": {
   "codemirror_mode": {
    "name": "ipython",
    "version": 3
   },
   "file_extension": ".py",
   "mimetype": "text/x-python",
   "name": "python",
   "nbconvert_exporter": "python",
   "pygments_lexer": "ipython3",
   "version": "3.8.3"
  }
 },
 "nbformat": 4,
 "nbformat_minor": 4
}
